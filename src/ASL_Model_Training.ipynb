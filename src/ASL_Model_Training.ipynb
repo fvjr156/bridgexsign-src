{
  "nbformat": 4,
  "nbformat_minor": 0,
  "metadata": {
    "colab": {
      "provenance": []
    },
    "kernelspec": {
      "name": "python3",
      "display_name": "Python 3"
    },
    "language_info": {
      "name": "python"
    }
  },
  "cells": [
    {
      "cell_type": "markdown",
      "source": [
        "# ASL Model Training\n",
        "\n",
        "fvjr156"
      ],
      "metadata": {
        "id": "fllLkhdG5jHf"
      }
    },
    {
      "cell_type": "markdown",
      "source": [
        "1. Import required packages."
      ],
      "metadata": {
        "id": "8nHfstxL3FEw"
      }
    },
    {
      "cell_type": "code",
      "execution_count": null,
      "metadata": {
        "id": "sJqaXQpgxJ98"
      },
      "outputs": [],
      "source": [
        "!pip install tensorflow roboflow ultralytics opencv-python pillow numpy scikit-learn"
      ]
    },
    {
      "cell_type": "markdown",
      "source": [
        "2. Configure CUDA, loglevel, and memory growth."
      ],
      "metadata": {
        "id": "1Hbm-QAJ3Ryx"
      }
    },
    {
      "cell_type": "code",
      "source": [
        "import matplotlib.pyplot as pyplot\n",
        "import tensorflow as tf\n",
        "import torch\n",
        "import os\n",
        "\n",
        "print(f'TensorFlow ver: {tf.__version__}')\n",
        "print(f'CUDA available: {torch.cuda.is_available()}')\n",
        "print(f'Device count: {torch.cuda.device_count()}')\n",
        "\n",
        "gpus = tf.config.experimental.list_physical_devices('GPU')\n",
        "if gpus:\n",
        "  try:\n",
        "    for gpu in gpus:\n",
        "      tf.config.experimental.set_memory_growth(gpu, True)\n",
        "\n",
        "      # memory depends on GPU, you should adjust it as necessary\n",
        "      tf.config.experimental.set_virtual_device_configuration(\n",
        "          gpus[0],\n",
        "          [tf.config.experimental.VirtualDeviceConfiguration(memory_limit=6144)]  # 6GB limit\n",
        "      )\n",
        "  except RuntimeError as e:\n",
        "    print(e)\n",
        "else:\n",
        "  print('No CUDA devices. Will use CPU instead')\n",
        "\n",
        "os.environ['TF_CPP_MIN_LOG_LEVEL'] = '2' # to reduce verbose logging\n",
        "os.environ['TF_FORCE_GPU_ALLOW_GROWTH'] = 'true'"
      ],
      "metadata": {
        "id": "8x35KRdh3Ysv"
      },
      "execution_count": null,
      "outputs": []
    },
    {
      "cell_type": "markdown",
      "source": [
        "3. Allow access to your drive"
      ],
      "metadata": {
        "id": "3OUBtqrM3b7C"
      }
    },
    {
      "cell_type": "code",
      "source": [
        "from google.colab import drive\n",
        "drive.mount('/content/drive')"
      ],
      "metadata": {
        "id": "K8NXjDU43fWn"
      },
      "execution_count": null,
      "outputs": []
    },
    {
      "cell_type": "markdown",
      "source": [
        "4. Collect all labels and files from specified directory"
      ],
      "metadata": {
        "id": "NcRdGK_q3zx6"
      }
    },
    {
      "cell_type": "code",
      "source": [
        "import os\n",
        "import numpy as np\n",
        "\n",
        "data_dir = '/content/drive/MyDrive/asltraining/data/landmark_sequences/'\n",
        "class_labels = sorted(os.listdir(data_dir))  # folder names => gesture class labels\n",
        "\n",
        "sequences = []\n",
        "sample_labels = []  # per-sample label list\n",
        "\n",
        "print(f'Found {len(class_labels)} labels: {class_labels}')\n",
        "\n",
        "for label in class_labels:\n",
        "    label_dir = os.path.join(data_dir, label)\n",
        "    for filename in os.listdir(label_dir):\n",
        "        if filename.endswith('.npy'):\n",
        "            print(f'Found {filename}')\n",
        "            seq = np.load(os.path.join(label_dir, filename))\n",
        "            sequences.append(seq)\n",
        "            sample_labels.append(label)\n",
        "\n",
        "sequences = np.array(sequences)  # shape: (num_samples, 30, 14  6)\n",
        "sample_labels = np.array(sample_labels)\n",
        "print(f'Found {len(sample_labels)} labels: {sample_labels}')\n"
      ],
      "metadata": {
        "id": "86bTnGIn34lr"
      },
      "execution_count": null,
      "outputs": []
    },
    {
      "cell_type": "markdown",
      "source": [
        "5. Encode labels. Map string labels to integers then to one-hot vector. Train/Test split."
      ],
      "metadata": {
        "id": "MaxDZ2P24rKc"
      }
    },
    {
      "cell_type": "code",
      "source": [
        "from sklearn.model_selection import train_test_split\n",
        "from sklearn.preprocessing import LabelEncoder\n",
        "from tensorflow.keras.utils import to_categorical\n",
        "\n",
        "label_encoder = LabelEncoder()\n",
        "label_int_encoded = label_encoder.fit_transform(sample_labels)\n",
        "label_categorical = to_categorical(label_int_encoded)\n",
        "\n",
        "x_train, x_test, y_train, y_test = train_test_split(\n",
        "    sequences, label_categorical, test_size=0.2, random_state=42\n",
        "    )\n",
        "# here, we split test and train datasets (test takes 20%, train takes 80%)"
      ],
      "metadata": {
        "id": "FRJT2Nj242Rz"
      },
      "execution_count": null,
      "outputs": []
    },
    {
      "cell_type": "markdown",
      "source": [
        "6. Configure LSTM model"
      ],
      "metadata": {
        "id": "b8wfG1-Q5-Da"
      }
    },
    {
      "cell_type": "code",
      "source": [
        "from tensorflow.keras.models import Sequential\n",
        "from tensorflow.keras.layers import Input, LSTM, Dense, Dropout\n",
        "from tensorflow.keras.optimizers import Adam\n",
        "from tensorflow.keras.callbacks import EarlyStopping, ModelCheckpoint\n",
        "\n",
        "model = Sequential()\n",
        "model.add(Input(shape=(30, 146)))\n",
        "model.add(LSTM(128, return_sequences=True))\n",
        "model.add(Dropout(0.3))\n",
        "model.add(LSTM(64))\n",
        "model.add(Dropout(0.3))\n",
        "model.add(Dense(64, activation='relu'))\n",
        "model.add(Dense(label_categorical.shape[1], activation='softmax'))"
      ],
      "metadata": {
        "id": "ieaDu72o6AMG"
      },
      "execution_count": null,
      "outputs": []
    },
    {
      "cell_type": "markdown",
      "source": [
        "7. Compile the LSTM model"
      ],
      "metadata": {
        "id": "hDkEx7h46mwH"
      }
    },
    {
      "cell_type": "code",
      "source": [
        "# stops early with validation loss plataus or increase\n",
        "early_stopping = EarlyStopping(\n",
        "    monitor = 'val_accuracy',\n",
        "    patience = 5,\n",
        "    restore_best_weights = True\n",
        "    )\n",
        "\n",
        "checkpoint = ModelCheckpoint(\n",
        "    'best_model.keras',\n",
        "    monitor='val_accuracy',\n",
        "    save_best_only=True,\n",
        "    verbose=1\n",
        ")\n",
        "\n",
        "model.compile(\n",
        "    optimizer=Adam(learning_rate=0.001),\n",
        "    loss='categorical_crossentropy',\n",
        "    metrics=['accuracy']\n",
        ")\n",
        "\n",
        "model.summary()"
      ],
      "metadata": {
        "id": "89g-EA1t6bA6"
      },
      "execution_count": null,
      "outputs": []
    },
    {
      "cell_type": "markdown",
      "source": [
        "7a. Fine tuning model"
      ],
      "metadata": {
        "id": "qhv4sSAlrPsE"
      }
    },
    {
      "cell_type": "code",
      "source": [
        "# from tensorflow.keras.models import Sequential\n",
        "# from tensorflow.keras.layers import Input, LSTM, Dense, Dropout\n",
        "# from tensorflow.keras.optimizers import Adam\n",
        "# from tensorflow.keras.callbacks import EarlyStopping, ModelCheckpoint\n",
        "\n",
        "# model = tf.keras.models.load_model('/content/drive/MyDrive/asltraining/models/asl_model_lstm.keras')\n",
        "\n",
        "# early_stopping = EarlyStopping(\n",
        "#     monitor = 'val_accuracy',\n",
        "#     patience = 5,\n",
        "#     restore_best_weights = True\n",
        "#     )\n",
        "\n",
        "# checkpoint = ModelCheckpoint(\n",
        "#     'best_model.keras',\n",
        "#     monitor='val_accuracy',\n",
        "#     save_best_only=True,\n",
        "#     verbose=1\n",
        "# )"
      ],
      "metadata": {
        "id": "VKU7Uo0brG5L"
      },
      "execution_count": null,
      "outputs": []
    },
    {
      "cell_type": "markdown",
      "source": [
        "8. Then we train. Analyze training curves when finished. Modify epochs to your preferred outcome."
      ],
      "metadata": {
        "id": "iRVQVhfM6qCa"
      }
    },
    {
      "cell_type": "code",
      "source": [
        "history = model.fit(\n",
        "    x_train,\n",
        "    y_train,\n",
        "    epochs=100,\n",
        "    batch_size=32,\n",
        "    validation_data=(x_test, y_test),\n",
        "    callbacks=[early_stopping, checkpoint]\n",
        ")\n",
        "\n",
        "pyplot.plot(\n",
        "    history.history['accuracy'],\n",
        "    label = 'Train Accuracy'\n",
        "    )\n",
        "pyplot.plot(\n",
        "    history.history['val_accuracy'],\n",
        "    label = 'Validation Accuracy'\n",
        "    )\n",
        "pyplot.plot(\n",
        "    history.history['loss'],\n",
        "    label = 'Train Loss'\n",
        "    )\n",
        "pyplot.plot(\n",
        "    history.history['val_loss'],\n",
        "    label = 'Validation Loss'\n",
        "    )\n",
        "pyplot.legend()\n",
        "pyplot.title(\"Training Curves\")\n",
        "pyplot.show()"
      ],
      "metadata": {
        "id": "LJwHORTF6sDj"
      },
      "execution_count": null,
      "outputs": []
    },
    {
      "cell_type": "code",
      "source": [
        "import matplotlib.pyplot as plt\n",
        "\n",
        "plt.plot(history.history['accuracy'], label='Train Accuracy')\n",
        "plt.plot(history.history['val_accuracy'], label='Val Accuracy')\n",
        "plt.xlabel('Epoch')\n",
        "plt.ylabel('Accuracy')\n",
        "plt.title('Training and Validation Accuracy')\n",
        "plt.legend()\n",
        "plt.grid(True)\n",
        "plt.show()"
      ],
      "metadata": {
        "id": "rLFCZcN9JelX"
      },
      "execution_count": null,
      "outputs": []
    },
    {
      "cell_type": "markdown",
      "source": [
        "9. Evaluate model then save to TensorFlow and TFLite"
      ],
      "metadata": {
        "id": "PECbveB-7-4y"
      }
    },
    {
      "cell_type": "code",
      "source": [
        "# evaluate on test set\n",
        "test_loss, test_acc = model.evaluate(x_test, y_test)\n",
        "print(f'Test accuracy: {test_acc:.2f}')\n",
        "\n",
        "# # saving the model in TensorFlow SavedModel format\n",
        "# model.export('/content/drive/MyDrive/asltraining/models/asl_model_lstm')\n",
        "# print(\"TF saved success.\")\n",
        "\n",
        "# saving the model in Keras v3 native format .keras\n",
        "model.save('/content/drive/MyDrive/asltraining/models/asl_model_lstm.keras')\n",
        "print(\"Keras saved success.\")"
      ],
      "metadata": {
        "id": "1xxso1ye7dtE"
      },
      "execution_count": null,
      "outputs": []
    },
    {
      "cell_type": "code",
      "source": [
        "from tensorflow import lite\n",
        "import tensorflow as tf\n",
        "from tensorflow.keras.models import load_model\n",
        "\n",
        "model = load_model('/content/drive/MyDrive/asltraining/models/asl_model_lstm.keras')\n",
        "best_model = load_model('best_model.keras')\n",
        "\n",
        "converter = lite.TFLiteConverter.from_keras_model(model)\n",
        "converter2 = lite.TFLiteConverter.from_keras_model(best_model)\n",
        "\n",
        "converter.experimental_enable_resource_variables = True\n",
        "converter.target_spec.supported_ops = [\n",
        "    tf.lite.OpsSet.TFLITE_BUILTINS,       # TFLite native ops\n",
        "    tf.lite.OpsSet.SELECT_TF_OPS          # Add fallback to full TF ops (e.g., TensorList)\n",
        "]\n",
        "converter._experimental_lower_tensor_list_ops = False  # Important for LSTM/GRU support\n",
        "\n",
        "converter2.experimental_enable_resource_variables = True\n",
        "converter2.target_spec.supported_ops = [\n",
        "    tf.lite.OpsSet.TFLITE_BUILTINS,\n",
        "    tf.lite.OpsSet.SELECT_TF_OPS\n",
        "]\n",
        "converter2._experimental_lower_tensor_list_ops = False\n",
        "\n",
        "# add optimization\n",
        "converter.optimizations = [tf.lite.Optimize.DEFAULT]\n",
        "converter2.optimizations = [tf.lite.Optimize.DEFAULT]\n",
        "\n",
        "tflite_model = converter.convert()\n",
        "tflite_model2 = converter2.convert()\n",
        "\n",
        "with open('/content/drive/MyDrive/asltraining/models/asl_model_lstm_quant.tflite', 'wb') as f:\n",
        "    f.write(tflite_model)\n",
        "\n",
        "print(\"TFLite model saved successfully.\")\n",
        "\n",
        "with open('/content/drive/MyDrive/asltraining/models/asl_model_lstm_quant_best_model.tflite', 'wb') as f:\n",
        "    f.write(tflite_model)\n",
        "\n",
        "print(\"TFLite model (from best_model.keras) saved successfully.\")"
      ],
      "metadata": {
        "id": "F2zMaJ9w9tN8"
      },
      "execution_count": null,
      "outputs": []
    },
    {
      "cell_type": "markdown",
      "source": [
        "Optional: Confusion matrix"
      ],
      "metadata": {
        "id": "bDC2qqsv8Kem"
      }
    },
    {
      "cell_type": "code",
      "source": [
        "import seaborn as sns\n",
        "import matplotlib.pyplot as plt\n",
        "from sklearn.metrics import confusion_matrix\n",
        "\n",
        "y_pred = model.predict(x_test)\n",
        "cm = confusion_matrix(\n",
        "    np.argmax(y_test, axis=1),\n",
        "    np.argmax(y_pred, axis=1)\n",
        ")\n",
        "\n",
        "sns.heatmap(cm, annot=True, xticklabels=label_encoder.classes_,\n",
        "            yticklabels=label_encoder.classes_, fmt='d')\n",
        "plt.xlabel('Predicted')\n",
        "plt.ylabel('True')\n",
        "plt.title('ASL Gesture Confusion Matrix')\n",
        "plt.figure(figsize=(12, 12))\n",
        "plt.show()"
      ],
      "metadata": {
        "id": "37jhcK9n8NTw"
      },
      "execution_count": null,
      "outputs": []
    },
    {
      "cell_type": "code",
      "source": [
        "interpreter = tf.lite.Interpreter(model_path='/content/drive/MyDrive/asltraining/models/asl_model_lstm_quant.tflite')\n",
        "interpreter.allocate_tensors()\n",
        "\n",
        "input_details = interpreter.get_input_details()\n",
        "output_details = interpreter.get_output_details()\n",
        "\n",
        "print(input_details)\n",
        "print(output_details)"
      ],
      "metadata": {
        "id": "8kw3CTYZNval"
      },
      "execution_count": null,
      "outputs": []
    }
  ]
}